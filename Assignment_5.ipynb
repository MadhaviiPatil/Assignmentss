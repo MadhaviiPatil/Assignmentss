{
  "nbformat": 4,
  "nbformat_minor": 0,
  "metadata": {
    "colab": {
      "provenance": []
    },
    "kernelspec": {
      "name": "python3",
      "display_name": "Python 3"
    },
    "language_info": {
      "name": "python"
    }
  },
  "cells": [
    {
      "cell_type": "markdown",
      "source": [
        "\n",
        "\n",
        "1. What does an empty dictionary's code look like?"
      ],
      "metadata": {
        "id": "b0XUFAy9lE15"
      }
    },
    {
      "cell_type": "code",
      "source": [],
      "metadata": {
        "id": "PlB80CcYlVVs"
      },
      "execution_count": null,
      "outputs": []
    },
    {
      "cell_type": "markdown",
      "source": [
        "2. What is the value of a dictionary value with the key &#39;foo&#39; and the value 42?"
      ],
      "metadata": {
        "id": "xRHtleprlXCB"
      }
    },
    {
      "cell_type": "code",
      "source": [
        "#creating a dictionary\n",
        "my_dict = {'foo':'42'}\n",
        "value = my_dict['foo']   #accesing the value using the key\n",
        "print(my_dict)\n",
        "print(f\"value is {value}\")\n"
      ],
      "metadata": {
        "colab": {
          "base_uri": "https://localhost:8080/"
        },
        "id": "48UorRYfldS5",
        "outputId": "5356000f-f737-49a0-a775-2165c5f8a8b1"
      },
      "execution_count": null,
      "outputs": [
        {
          "output_type": "stream",
          "name": "stdout",
          "text": [
            "{'foo': '42'}\n",
            "value is 42\n"
          ]
        }
      ]
    },
    {
      "cell_type": "markdown",
      "source": [
        "3. What is the most significant distinction between a dictionary and a list?\n",
        "\n",
        "While both dictionaries and lists are used for storing collections of data, they differ significantly in terms of structure, how data is accessed, ordering, and handling of duplicates.\n",
        "\n",
        "\n",
        "\n",
        "*   List -\n",
        "1. A list is an ordered collection of items\n",
        "\n",
        "   2.Lists are mutable.\n",
        "\n",
        "  3.Lists are defined using square brackets [ ],\n",
        "\n",
        " 4.Elements in a list are accessed by their index, which is an integer value starting from 0.\n",
        "\n",
        " 5.Lists allow duplicate elements.\n",
        "\n",
        " 6.Lists maintain the order of elements as they are inserted. The order of elements in a list remains constant unless explicitly changed.\n",
        "*   Dictionary -\n",
        "\n",
        " 1.A dictionary is an unordered collection of key-value pairs, where each key is associated with a value.\n",
        "\n",
        " 2.Dictionaries are mutable and allow for fast retrieval of values based on their keys.\n",
        "\n",
        " 3.Dictionaries are defined using curly braces { }.\n",
        "\n",
        " 4.Values in a dictionary are accessed by their keys.\n",
        "\n",
        " 5.Dictionaries do not maintain any order among the key-value pairs.\n",
        "\n",
        " 6.Keys in a dictionary must be unique. If you try to add a key-value pair with an existing key, it will update the value associated with that key rather than adding a new entry.\n",
        "\n",
        "\n",
        "\n",
        "\n",
        "\n"
      ],
      "metadata": {
        "id": "ak39lTVno5kz"
      }
    },
    {
      "cell_type": "markdown",
      "source": [
        "4. What happens if you try to access spam[&#39;foo&#39;] if spam is {&#39;bar&#39;: 100}?"
      ],
      "metadata": {
        "id": "whDvcDMktIh_"
      }
    },
    {
      "cell_type": "code",
      "source": [
        "spam = {'bar':100}\n",
        "print(spam['foo'])"
      ],
      "metadata": {
        "colab": {
          "base_uri": "https://localhost:8080/",
          "height": 192
        },
        "id": "-x_Y-zFKt37X",
        "outputId": "486dbaa9-0482-42cc-80ce-aec3d70b40e4"
      },
      "execution_count": null,
      "outputs": [
        {
          "output_type": "error",
          "ename": "KeyError",
          "evalue": "'foo'",
          "traceback": [
            "\u001b[0;31m---------------------------------------------------------------------------\u001b[0m",
            "\u001b[0;31mKeyError\u001b[0m                                  Traceback (most recent call last)",
            "\u001b[0;32m<ipython-input-5-76189a2aa494>\u001b[0m in \u001b[0;36m<cell line: 2>\u001b[0;34m()\u001b[0m\n\u001b[1;32m      1\u001b[0m \u001b[0mspam\u001b[0m \u001b[0;34m=\u001b[0m \u001b[0;34m{\u001b[0m\u001b[0;34m'bar'\u001b[0m\u001b[0;34m:\u001b[0m\u001b[0;36m100\u001b[0m\u001b[0;34m}\u001b[0m\u001b[0;34m\u001b[0m\u001b[0;34m\u001b[0m\u001b[0m\n\u001b[0;32m----> 2\u001b[0;31m \u001b[0mprint\u001b[0m\u001b[0;34m(\u001b[0m\u001b[0mspam\u001b[0m\u001b[0;34m[\u001b[0m\u001b[0;34m'foo'\u001b[0m\u001b[0;34m]\u001b[0m\u001b[0;34m)\u001b[0m\u001b[0;34m\u001b[0m\u001b[0;34m\u001b[0m\u001b[0m\n\u001b[0m",
            "\u001b[0;31mKeyError\u001b[0m: 'foo'"
          ]
        }
      ]
    },
    {
      "cell_type": "markdown",
      "source": [
        "5. If a dictionary is stored in spam, what is the difference between the expressions &#39;cat&#39; in spam and\n",
        "&#39;cat&#39; in spam.keys()?"
      ],
      "metadata": {
        "id": "nFXNplDUt61R"
      }
    },
    {
      "cell_type": "markdown",
      "source": [
        "'cat' in spam: checks if 'cat' is a key in the dictionary spam.\n",
        "\n",
        "'cat' in spam.keys(): also checks if 'cat' is a key in the dictionary spam.\n",
        "\n",
        "In practice, both expressions will give the same result. The keys() method returns a view object that displays a list of all the keys in the dictionary, so checking if 'cat' is in spam.keys() is essentially the same as checking if 'cat' is a key in spam."
      ],
      "metadata": {
        "id": "xCQhq8qyWWP8"
      }
    },
    {
      "cell_type": "markdown",
      "source": [
        "7. What is a shortcut for the following code?\n",
        "if &#39;color&#39; not in spam:\n",
        "spam[&#39;color&#39;] = &#39;black&#39;"
      ],
      "metadata": {
        "id": "HlBY6T_OW1ar"
      }
    },
    {
      "cell_type": "code",
      "source": [
        "spam.setdefault('color', 'black')\n",
        "#This line of code will insert the key 'color' with the value 'black' into the dictionary spam if the key 'color' is not already present.\n",
        "#If the key 'color' is already present, it will not modify the value associated with it.\n",
        "\n",
        "\n",
        "\n",
        "\n",
        "\n"
      ],
      "metadata": {
        "id": "E3cdzlKTXw5j"
      },
      "execution_count": null,
      "outputs": []
    },
    {
      "cell_type": "markdown",
      "source": [
        "How do you &quot;pretty print&quot; dictionary values using which module and function?\n",
        "\n",
        "To \"pretty print\" dictionary values in Python, you can use the pprint module and its pprint() function.\n",
        "This module provides a more readable output format compared to the built-in print() function, especially for complex data structures like dictionaries. Here's how you can use it:"
      ],
      "metadata": {
        "id": "u3Xl4LJBX74Q"
      }
    },
    {
      "cell_type": "code",
      "source": [
        "import pprint\n",
        "\n",
        "# Example dictionary\n",
        "my_dict = {'1': 'Japan', '2': 'Germany', '3': 'India'}\n",
        "\n",
        "# Pretty print the dictionary\n",
        "pprint.pprint(my_dict)\n",
        "\n"
      ],
      "metadata": {
        "colab": {
          "base_uri": "https://localhost:8080/"
        },
        "id": "cQZbzfdkYXzZ",
        "outputId": "fd5355dc-76c7-4644-8faf-f0e92d71eaea"
      },
      "execution_count": 3,
      "outputs": [
        {
          "output_type": "stream",
          "name": "stdout",
          "text": [
            "{'1': 'Japan', '2': 'Germany', '3': 'India'}\n"
          ]
        }
      ]
    }
  ]
}