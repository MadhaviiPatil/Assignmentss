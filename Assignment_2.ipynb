{
  "cells": [
    {
      "attachments": {},
      "cell_type": "markdown",
      "metadata": {
        "id": "GbalrPgpAcWN"
      },
      "source": [
        "1) What are the two values of the Boolean data type? How do you write them?\n",
        "In Python, the Boolean data type represents the truth values \"True\" and \"False\".\n",
        "Boolean values are commonly used in conditional statements and logical operations to make decisions and control the flow of a program based on certain conditions.\n"
      ]
    },
    {
      "attachments": {},
      "cell_type": "markdown",
      "metadata": {
        "id": "VNsbVkvXHhm9"
      },
      "source": [
        "2) What are the three different types of Boolean operators?\n",
        "\n",
        "Ans: \"not\" , \"and\" , \"or\" are the three types of boolean operators\n",
        "     \"and\" Operator: The \"and\" operator returns \"True\" if both operands are\n",
        "      true; otherwise, it returns \"False\". It can be represented using the keyword \"and\"."
      ]
    },
    {
      "cell_type": "code",
      "execution_count": null,
      "metadata": {
        "id": "qMQ5VZTkH04E"
      },
      "outputs": [],
      "source": [
        "x = True\n",
        "y = False\n",
        "result = x and y\n",
        "print(result)\n"
      ]
    },
    {
      "attachments": {},
      "cell_type": "markdown",
      "metadata": {
        "id": "m8W7CBTxH_2L"
      },
      "source": [
        "\"or\" Operator: The \"or\" operator returns \"True\" if at least one of the operands is true; otherwise, it returns \"False\"."
      ]
    },
    {
      "cell_type": "code",
      "execution_count": null,
      "metadata": {
        "id": "GTYlpbSbIHP7"
      },
      "outputs": [],
      "source": [
        "x = True\n",
        "y = False\n",
        "result = x or y\n",
        "print(result)\n"
      ]
    },
    {
      "attachments": {},
      "cell_type": "markdown",
      "metadata": {
        "id": "SpON4dPTIS46"
      },
      "source": [
        "\"not\" Operator: The \"not\" operator is a unary operator that returns the opposite of the operand's value. If the operand is \"True\", \"not\" will return \"False\", and if the operand is \"False\", \"not\" will return \"True\"."
      ]
    },
    {
      "cell_type": "code",
      "execution_count": null,
      "metadata": {
        "id": "-Gs0MPXTIdU1"
      },
      "outputs": [],
      "source": [
        "x = True\n",
        "result = not x\n",
        "print(result)\n"
      ]
    },
    {
      "attachments": {},
      "cell_type": "markdown",
      "metadata": {
        "id": "LvjeI-eVI0Xj"
      },
      "source": [
        "QUESTION 3) These Boolean operators are commonly used to combine and manipulate\n",
        "            Boolean values, perform logical operations, and construct complex conditions in Python."
      ]
    },
    {
      "attachments": {},
      "cell_type": "markdown",
      "metadata": {
        "id": "o_SS6zZYJCrH"
      },
      "source": [
        "3) truth tables for each Boolean operator:\n",
        "  1. \"and\" operator -\n",
        "     \n",
        "      False and False = False,\n",
        "\n",
        "      False and True =  False\n",
        "      \n",
        "      True and False = False\n",
        "      \n",
        "      True and True = True\n",
        "\n",
        "      \"or\" operator -\n",
        "      \n",
        "      False or False = False\n",
        "      \n",
        "      False or True = True\n",
        "      \n",
        "      True or False = True\n",
        "      \n",
        "      True or True = True\n",
        "\n",
        "      \"not\" operator-\n",
        "      \n",
        "      False = True\n",
        "      \n",
        "      True = False\n"
      ]
    },
    {
      "attachments": {},
      "cell_type": "markdown",
      "metadata": {
        "id": "fKkLFtLzhD8Z"
      },
      "source": [
        "QUESTION 4). What are the values of the following expressions?\n",
        "\n",
        "(5 > 4) and (3 == 5)\n",
        "\n",
        " not (5 > 4)\n",
        "\n",
        "(5 > 4) or (3 == 5)\n",
        "\n",
        "not ((5 > 4) or (3 == 5))\n",
        "\n",
        "(True and True) and (True == False)\n",
        "\n",
        "(not False) or (not True)"
      ]
    },
    {
      "cell_type": "code",
      "execution_count": null,
      "metadata": {
        "id": "be0FLAbrgzQF"
      },
      "outputs": [],
      "source": [
        "\n",
        "(5 > 4) and (3 == 5) = False\n",
        " not (5 > 4) = False\n",
        "(5 > 4) or (3 == 5) = True\n",
        "not ((5 > 4) or (3 == 5)) = False\n",
        "(True and True) and (True == False) = False\n",
        "(not False) or (not True) = True\n"
      ]
    },
    {
      "attachments": {},
      "cell_type": "markdown",
      "metadata": {
        "id": "Nz2HtR-Uii4b"
      },
      "source": [
        "QUESTION 5). What are the six comparison operators?\n",
        "The six comparison operators are:\n",
        "\n",
        "1. Equal to (==): This operator checks if two values are equal and returns `true` if they are, and `false` otherwise.\n",
        "\n",
        "2. Not equal to (!=): This operator checks if two values are not equal and returns `true` if they are not equal, and `false` otherwise.\n",
        "\n",
        "3. Greater than (>): This operator checks if the value on the left is greater than the value on the right and returns `true` if it is, and `false` otherwise.\n",
        "\n",
        "4. Less than (<): This operator checks if the value on the left is less than the value on the right and returns `true` if it is, and `false` otherwise.\n",
        "\n",
        "5. Greater than or equal to (>=): This operator checks if the value on the left is greater than or equal to the value on the right and returns `true` if it is, and `false` otherwise.\n",
        "\n",
        "6. Less than or equal to (<=): This operator checks if the value on the left is less than or equal to the value on the right and returns `true` if it is, and `false` otherwise."
      ]
    },
    {
      "cell_type": "code",
      "execution_count": null,
      "metadata": {
        "id": "bJ3Ll2fsjGEj"
      },
      "outputs": [],
      "source": []
    },
    {
      "attachments": {},
      "cell_type": "markdown",
      "metadata": {
        "id": "sQBYgpX8jOAy"
      },
      "source": [
        "QUESTION 6). How do you tell the difference between the equal to and assignment operators?Describe a condition and when you would use one.\n",
        "\n",
        " Assignment operator is used when user wants to assign a particular value to\n",
        " variable.\n",
        " It can be denoted using \"=\" sign.\n",
        " Var = 10 ,\n",
        " then the value of Var becomes 10 .\n",
        "\n",
        " In mathematical terms. \"=\" sign is used for comparing values.\n",
        "\n",
        "For eg :-\n",
        "10 = 5 is False ,\n",
        "\n",
        "In mathematical terms, 10 != 5\n",
        "\n"
      ]
    },
    {
      "attachments": {},
      "cell_type": "markdown",
      "metadata": {
        "id": "OEqJcNTRS9XC"
      },
      "source": [
        "7. Identify the three blocks in this code:\n",
        "spam = 0\n",
        "if spam == 10:\n",
        "print('eggs')\n",
        "if spam > 5:\n",
        "print('bacon')\n",
        "else:\n",
        "print('ham')\n",
        "print('spam')\n",
        "print('spam')\n",
        "\n",
        "if spam == 10:\n",
        "\n",
        "\tprint(\"Eggs\")\n",
        "\n",
        "elif spam > 5:\n",
        "\n",
        "\tprint(\"bacon\")\n",
        "\n",
        "else\n",
        "\n",
        "\tprint(\"ham)\n",
        "  \n",
        "    print(\"spam\")\n",
        "\n",
        "    print(\"spam\")\n",
        "\n"
      ]
    },
    {
      "attachments": {},
      "cell_type": "markdown",
      "metadata": {
        "id": "0JvO3lD-XAOP"
      },
      "source": [
        "8. Write code that prints Hello if 1 is stored in spam, prints Howdy if 2 is stored in spam, and prints Greetings! if anything else is stored in spam.\n"
      ]
    },
    {
      "cell_type": "code",
      "execution_count": null,
      "metadata": {
        "colab": {
          "base_uri": "https://localhost:8080/"
        },
        "id": "qq3fOO5rXFMI",
        "outputId": "1c15cd37-765a-4c04-b3a8-688ddf77852f"
      },
      "outputs": [
        {
          "name": "stdout",
          "output_type": "stream",
          "text": [
            "Howdy\n"
          ]
        }
      ],
      "source": [
        "spam = 2\n",
        "if spam == 1:\n",
        "  print(\"hello\")\n",
        "elif spam == 2:\n",
        "  print(\"Howdy\")\n",
        "else:\n",
        "  print(\"Greetings!\")\n"
      ]
    },
    {
      "attachments": {},
      "cell_type": "markdown",
      "metadata": {
        "id": "0AW8AuD9Ym_S"
      },
      "source": [
        "9.If your programme is stuck in an endless loop, what keys you’ll press?\n",
        "\n",
        "An endless loop goes into infinte iteration until brake statement is used or forecfully close . You can stop an infinite loop with CTRL + C\n",
        "  "
      ]
    },
    {
      "attachments": {},
      "cell_type": "markdown",
      "metadata": {
        "id": "WrZKY-yNfz-t"
      },
      "source": [
        "10. How can you tell the difference between break and continue?\n",
        "\n",
        "Break statement stops the entire process of the loop. Continue statement only stops the current iteration of the loop. Break also terminates the remaining iterations. Continue doesn't terminate the next iterations; it resumes with the successive iterations.\n"
      ]
    },
    {
      "attachments": {},
      "cell_type": "markdown",
      "metadata": {
        "id": "_YMV-BCNihWI"
      },
      "source": [
        "11. In a for loop, what is the difference between range(10), range(0, 10), and range(0, 10, 1)?\n",
        "\n",
        " 1.range(10)\n",
        "\n",
        " In a loop , range is a sequence of numbers starting from 0 (by default) and increments by 1(by default) and stops before specified number.\n",
        "\n",
        " 2.range(0,10)\n",
        "\n",
        "  This type of range function takes two arguments start and end,where start denotes the initial value from where the series of numbers would start and end argument denotes the end value.\n",
        "\n",
        "  3.range(0,10,1)\n",
        "  \n",
        "  This type of range fuction mentions the difference between two numbers in the series.\n"
      ]
    },
    {
      "attachments": {},
      "cell_type": "markdown",
      "metadata": {
        "id": "GmKirwc4Lary"
      },
      "source": [
        "12. Write a short program that prints the numbers 1 to 10 using a for loop. Then write an equivalent program that prints the numbers 1 to 10 using a while loop."
      ]
    },
    {
      "cell_type": "code",
      "execution_count": null,
      "metadata": {
        "id": "RBirga_QLjaQ"
      },
      "outputs": [],
      "source": [
        "#For loop\n",
        "for i in range (1,11):\n",
        "  print(i)\n",
        "\n",
        "#While loop\n",
        "i = 1\n",
        "while i<=10 :\n",
        "  print(i)\n",
        "  i = i+1\n",
        "\n",
        "\n"
      ]
    },
    {
      "attachments": {},
      "cell_type": "markdown",
      "metadata": {
        "id": "6WbobN6YQbf5"
      },
      "source": [
        "13. If you had a function named bacon() inside a module named spam, how would you call it after importing spam?\n",
        "\n",
        " We can call bacon() function by spam.bacon()"
      ]
    }
  ],
  "metadata": {
    "colab": {
      "provenance": []
    },
    "kernelspec": {
      "display_name": "Python 3",
      "name": "python3"
    },
    "language_info": {
      "name": "python"
    }
  },
  "nbformat": 4,
  "nbformat_minor": 0
}
