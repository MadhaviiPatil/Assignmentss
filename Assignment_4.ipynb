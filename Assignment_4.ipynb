{
  "cells": [
    {
      "cell_type": "markdown",
      "metadata": {
        "id": "e02JJnjtAJQI"
      },
      "source": [
        "1. What exactly is []?\n",
        "\n",
        "In Python,  [ ] represents an empty list. A list is a versatile and widely used data structure that can hold a collection of items. Items in a list can be of different data types, and they can be accessed and manipulated using indexing.\n"
      ]
    },
    {
      "cell_type": "code",
      "execution_count": null,
      "metadata": {
        "id": "7artCwC4AhL9"
      },
      "outputs": [],
      "source": []
    },
    {
      "cell_type": "markdown",
      "metadata": {
        "id": "_nHbVkHMAjjr"
      },
      "source": [
        "2. In a list of values stored in a variable called spam, how would you assign the value &#39;hello&#39; as the\n",
        "third value? (Assume [2, 4, 6, 8, 10] are in spam.)\n",
        "\n",
        "Let&#39;s pretend the spam includes the list [&#39;a&#39;, &#39;b&#39;, &#39;c&#39;, &#39;d&#39;] for the next three queries.\n",
        "\n"
      ]
    },
    {
      "cell_type": "code",
      "execution_count": null,
      "metadata": {
        "colab": {
          "base_uri": "https://localhost:8080/"
        },
        "id": "JilTgHSVK3Zu",
        "outputId": "2e7a0d44-b4c6-45cc-d9c7-571888597cfc"
      },
      "outputs": [
        {
          "name": "stdout",
          "output_type": "stream",
          "text": [
            "[2, 4, 'hello', 8, 10]\n"
          ]
        }
      ],
      "source": [
        "spam = [2, 4, 6, 8, 10]\n",
        "spam[2]= \"hello\"  #because indexing in python starts from zero , third value = 2 index)\n",
        "print(spam)"
      ]
    },
    {
      "cell_type": "markdown",
      "metadata": {
        "id": "ZekZ8z07AfZP"
      },
      "source": [
        "3. What is the value of spam[int(int(&#39;3&#39; * 2) / 11)]?"
      ]
    },
    {
      "cell_type": "code",
      "execution_count": null,
      "metadata": {
        "colab": {
          "base_uri": "https://localhost:8080/"
        },
        "id": "2dIjYjb3NC95",
        "outputId": "2af6812f-7369-4f56-a176-a73830695004"
      },
      "outputs": [
        {
          "name": "stdout",
          "output_type": "stream",
          "text": [
            "d\n"
          ]
        }
      ],
      "source": [
        "spam = ['a', 'b', 'c', 'd']\n",
        "a = spam[int(int('3' * 2) / 11)]\n",
        "print(a)\n",
        "#'3' * 2 results in the string '33'.\n",
        "# int('33') converts the string to an integer, resulting in the value 33.\n",
        "# 33 / 11 performs integer division, resulting in 3.\n",
        "# spam[3] accesses the element at index 3 in the list spam.\n"
      ]
    },
    {
      "cell_type": "markdown",
      "metadata": {
        "id": "dYkC9FuFBBhv"
      },
      "source": [
        "4. What is the value of spam[-1]?"
      ]
    },
    {
      "cell_type": "code",
      "execution_count": null,
      "metadata": {
        "colab": {
          "base_uri": "https://localhost:8080/"
        },
        "id": "2vaD7J7lcbSk",
        "outputId": "157cb0b3-9f14-4f0b-f7ff-1982b1387372"
      },
      "outputs": [
        {
          "name": "stdout",
          "output_type": "stream",
          "text": [
            "d\n"
          ]
        }
      ],
      "source": [
        "spam = ['a', 'b', 'c', 'd']\n",
        "a= spam[-1]\n",
        "print(a)"
      ]
    },
    {
      "cell_type": "markdown",
      "metadata": {
        "id": "Dzp_TpjnBJoa"
      },
      "source": [
        "5. What is the value of spam[:2]?\n",
        "\n"
      ]
    },
    {
      "cell_type": "code",
      "execution_count": null,
      "metadata": {
        "colab": {
          "base_uri": "https://localhost:8080/"
        },
        "id": "aPlUOkmB9saN",
        "outputId": "e77d04eb-4381-45df-8def-a62bc4565c45"
      },
      "outputs": [
        {
          "name": "stdout",
          "output_type": "stream",
          "text": [
            "['a', 'b']\n"
          ]
        }
      ],
      "source": [
        "spam = ['a', 'b', 'c', 'd']\n",
        "a = spam[:2]\n",
        "print(a)"
      ]
    },
    {
      "cell_type": "markdown",
      "metadata": {
        "id": "ewiliji8RDP4"
      },
      "source": [
        "Let&#39;s pretend bacon has the list [3.14, &#39;cat,&#39; 11, &#39;cat,&#39; True] for the next three questions.\n",
        "6. What is the value of bacon.index(&#39;cat&#39;)?"
      ]
    },
    {
      "cell_type": "code",
      "execution_count": null,
      "metadata": {
        "colab": {
          "base_uri": "https://localhost:8080/"
        },
        "id": "h9NyUnWaRPfz",
        "outputId": "318a6d4c-9508-4af6-9670-4d0283e48e51"
      },
      "outputs": [
        {
          "name": "stdout",
          "output_type": "stream",
          "text": [
            "1\n"
          ]
        }
      ],
      "source": [
        "bacon = ['3.14','cat', \"11\", 'cat,','True']\n",
        "a = bacon.index('cat')\n",
        "print(a)"
      ]
    },
    {
      "cell_type": "markdown",
      "metadata": {
        "id": "ChMTMSKMnh_G"
      },
      "source": [
        "7. How does bacon.append(99) change the look of the list value in bacon?"
      ]
    },
    {
      "cell_type": "code",
      "execution_count": null,
      "metadata": {
        "colab": {
          "base_uri": "https://localhost:8080/"
        },
        "id": "-FtrODNvn0s_",
        "outputId": "965de0a4-f1e8-42b2-d3d3-0cba5600694a"
      },
      "outputs": [
        {
          "name": "stdout",
          "output_type": "stream",
          "text": [
            "['3.14', 'cat', '11', 'cat,', 'True', 99]\n"
          ]
        }
      ],
      "source": [
        "bacon = ['3.14','cat', \"11\", 'cat,','True']\n",
        "bacon.append(99)\n",
        "print(bacon)\n"
      ]
    },
    {
      "cell_type": "markdown",
      "metadata": {
        "id": "7AN4Jxd3otpn"
      },
      "source": [
        "8. How does bacon.remove(&#39;cat&#39;) change the look of the list in bacon?"
      ]
    },
    {
      "cell_type": "code",
      "execution_count": null,
      "metadata": {
        "colab": {
          "base_uri": "https://localhost:8080/"
        },
        "id": "S-hQkTCLovMK",
        "outputId": "7c981af7-5cff-4f5f-d6ec-1b9df1c53f36"
      },
      "outputs": [
        {
          "name": "stdout",
          "output_type": "stream",
          "text": [
            "['3.14', '11', 'cat,', 'True']\n"
          ]
        }
      ],
      "source": [
        "bacon = ['3.14','cat', \"11\", 'cat,','True']\n",
        "bacon.remove('cat')\n",
        "print(bacon)\n"
      ]
    },
    {
      "cell_type": "markdown",
      "metadata": {
        "id": "5jJQzQyVDULj"
      },
      "source": [
        "9. What are the list concatenation and list replication operators?\n",
        "\n",
        "In Python, the + operator is used for list concatenation, and the * operator is used for list replication.\n",
        "\n",
        "List Concatenation (+):\n",
        "The + operator is used to concatenate two lists, meaning it combines the elements of two lists into a new list.\n",
        "\n",
        "List Replication (*):\n",
        "The * operator is used for list replication. It creates a new list by repeating the elements of an existing list a specified number of times."
      ]
    },
    {
      "cell_type": "code",
      "execution_count": 3,
      "metadata": {
        "colab": {
          "base_uri": "https://localhost:8080/"
        },
        "id": "q2Y8PRAVOY0K",
        "outputId": "fa39d886-da1f-41c8-9b20-ab532b88abe2"
      },
      "outputs": [
        {
          "name": "stdout",
          "output_type": "stream",
          "text": [
            "['A', 'B', 'C', 'D', 'E', 'F']\n",
            "['A', 'B', 'C', 'A', 'B', 'C', 'A', 'B', 'C']\n"
          ]
        }
      ],
      "source": [
        "list1 = [\"A\", \"B\", \"C\"]\n",
        "list2 = [\"D\", \"E\", \"F\"]\n",
        "\n",
        "result = list1 + list2\n",
        "print(result)\n",
        "\n",
        "\n",
        "original_list = [\"A\", \"B\", \"C\"]\n",
        "\n",
        "replicated_list = original_list * 3\n",
        "print(replicated_list)\n",
        "\n"
      ]
    },
    {
      "cell_type": "markdown",
      "metadata": {
        "id": "C0ZuUvW6Tmyq"
      },
      "source": [
        "10. What is difference between the list methods append() and insert()?\n",
        "\n",
        "\n",
        "The append() and insert() methods in Python are both used to add elements to a list, but they differ in how they add elements and where the elements are added within the list.\n",
        "\n",
        "append() Method:\n",
        "\n",
        "The append() method is used to add an element to the end of the list.\n",
        "It takes a single argument, which is the element to be added.\n",
        "The element is added at the end of the list, increasing the list's length by 1.\n",
        "\n",
        "\n",
        "insert() Method:\n",
        "\n",
        "The insert() method is used to add an element at a specific position in the list.\n",
        "It takes two arguments: the index where the element should be inserted, and the element itself.\n",
        "The element is inserted at the specified index, and the existing elements are shifted to make room for the new element."
      ]
    },
    {
      "cell_type": "code",
      "execution_count": 1,
      "metadata": {
        "colab": {
          "base_uri": "https://localhost:8080/"
        },
        "id": "QzfN3xEWxJNm",
        "outputId": "82602d7a-fd13-42aa-adc9-ad6848612576"
      },
      "outputs": [
        {
          "name": "stdout",
          "output_type": "stream",
          "text": [
            "[1, 2, 3, 4]\n",
            "[1, 5, 2, 3]\n"
          ]
        }
      ],
      "source": [
        "my_list = [1, 2, 3]\n",
        "my_list.append(4)\n",
        "print(my_list)\n",
        "\n",
        "#insert\n",
        "my_listt = [1, 2, 3]\n",
        "my_listt.insert(1, 5)  # Insert 5 at index 1\n",
        "print(my_listt)\n"
      ]
    },
    {
      "cell_type": "markdown",
      "metadata": {
        "id": "wYg2rbZG8q4j"
      },
      "source": [
        "11. What are the two methods for removing items from a list?\n",
        "\n",
        "\n",
        "here are two commonly used methods for removing items from a list in Python:\n",
        "\n",
        "remove() Method:\n",
        "\n",
        "The remove() method is used to remove the first occurrence of a specified value from the list.\n",
        "It takes a single argument, which is the value to be removed.\n",
        "If the value is not found in the list, it raises a ValueError.\n",
        "\n",
        "pop() Method:\n",
        "\n",
        "The pop() method is used to remove and return an element from a specific index in the list.\n",
        "It takes an optional argument, which is the index of the element to be removed. If no index is specified, it removes and returns the last element by default.\n",
        "If the specified index is out of range, it raises an IndexError.\n",
        "\n"
      ]
    },
    {
      "cell_type": "code",
      "execution_count": 2,
      "metadata": {
        "colab": {
          "base_uri": "https://localhost:8080/"
        },
        "id": "0v3OZ5ZG8_mK",
        "outputId": "bfe0550a-47e1-4677-e7c0-a92f326a28b2"
      },
      "outputs": [
        {
          "name": "stdout",
          "output_type": "stream",
          "text": [
            "[1, 3, 2, 4]\n",
            "[1, 3, 4]\n",
            "Popped Element: 2\n"
          ]
        }
      ],
      "source": [
        "#remove method\n",
        "my_list = [1, 2, 3, 2, 4]\n",
        "my_list.remove(2)\n",
        "print(my_list)\n",
        "\n",
        "#pop method\n",
        "my_list = [1, 2, 3, 4]\n",
        "popped_element = my_list.pop(1)\n",
        "print(my_list)\n",
        "print(\"Popped Element:\", popped_element)\n"
      ]
    },
    {
      "cell_type": "markdown",
      "metadata": {
        "id": "JcUNfQHS9pUp"
      },
      "source": [
        "12. Describe how list values and string values are identical.\n",
        "\n",
        "Sequential Access:\n",
        "\n",
        "Both lists and strings allow for sequential access to their elements.\n",
        "Elements in a list or a string are ordered and can be accessed by their index or position.\n",
        "\n",
        "Iterable:\n",
        "\n",
        "Both lists and strings are iterable, meaning you can iterate over their elements using loops or other iterable constructs.\n",
        "\n",
        "Slicing:\n",
        "\n",
        "Both lists and strings support slicing operations, allowing you to extract subparts or subsequences from the original data structure.\n",
        "\n",
        "Concatenation and Replication:\n",
        "\n",
        "Both lists and strings support concatenation (combining two sequences into a new one) and replication (repeating a sequence multiple times).\n",
        "\n",
        "Length Function:\n",
        "\n",
        "Both lists and strings have a length function (len()) that returns the number of elements (characters for strings) in the data structure."
      ]
    },
    {
      "cell_type": "markdown",
      "metadata": {
        "id": "TNUPZtpP-FPn"
      },
      "source": [
        "13. What&#39;s the difference between tuples and lists?\n",
        "\n",
        "In Python, tuples and lists are both used to store collections of items, but they have several key differences:\n",
        "\n",
        "Mutability:\n",
        "\n",
        "Lists are mutable: You can modify the elements of a list after it has been created. You can add, remove, or modify elements freely.\n",
        "\n",
        "Tuples are immutable: Once a tuple is created, you cannot change its elements. If you need a fixed collection of values that should not be altered, you would use a tuple.\n",
        "\n",
        "Syntax:\n",
        "\n",
        "Lists are defined using square brackets ([]): [1, 2, 3]\n",
        "Tuples are defined using parentheses (()): (1, 2, 3)\n",
        "Performance:\n",
        "\n",
        "Tuples are generally more memory-efficient and faster than lists. Because tuples are immutable, the interpreter can make certain optimizations that are not possible with lists. If you don't need to modify the collection of items, using a tuple might be more efficient.\n",
        "Use Cases:\n",
        "\n",
        "Use lists when you have a collection of items that may need to be modified or extended.\n",
        "Use tuples when you want to create an immutable, ordered collection of items. Tuples are often used for fixed collections, such as coordinates or records.\n",
        "\n",
        "Methods:\n",
        "\n",
        "Lists have more built-in methods compared to tuples. Lists provide methods like append(), extend(), remove(), and more, which modify the list in place. Tuples, being immutable, have fewer methods."
      ]
    },
    {
      "cell_type": "markdown",
      "metadata": {
        "id": "A-_hvYJbIGB-"
      },
      "source": [
        "14. How do you type a tuple value that only contains the integer 42?\n",
        "\n",
        "In Python, you can create a tuple containing the integer 42 by using parentheses. Here's how you can type a tuple with the integer 42:\n",
        "\n",
        "my_tuple = (42,)\n",
        "\n",
        "It's important to include the comma after the integer 42, even though there is only one element in the tuple. The comma distinguishes it as a tuple; otherwise, Python would interpret the expression as just an integer in parentheses.\n",
        "\n",
        "So, (42,) is a tuple with a single element (the integer 42)."
      ]
    },
    {
      "cell_type": "markdown",
      "metadata": {
        "id": "jWN_IkhSIbcD"
      },
      "source": [
        "15.How do you get a list value&#39;s tuple form? How do you get a tuple value&#39;s list form?\n",
        "\n",
        "To convert a list to a tuple in Python, you can use the tuple() constructor. Similarly, to convert a tuple to a list, you can use the list() constructor. Here are examples of both conversions:\n",
        "\n",
        "Convert a List to a Tuple:\n",
        "\n",
        "my_list = [1, 2, 3, 4, 5]\n",
        "\n",
        "my_tuple = tuple(my_list)\n",
        "\n",
        "print(my_tuple)\n",
        "\n",
        "In this example, the tuple() constructor is used to convert the list my_list into a tuple my_tuple.\n",
        "\n",
        "Convert a Tuple to a List:\n",
        "\n",
        "my_tuple = (1, 2, 3, 4, 5)\n",
        "\n",
        "my_list = list(my_tuple)\n",
        "\n",
        "print(my_list)\n",
        "\n",
        "Here, the list() constructor is used to convert the tuple my_tuple into a list my_list.\n",
        "\n",
        "\n",
        "\n"
      ]
    },
    {
      "cell_type": "markdown",
      "metadata": {
        "id": "RJv97bQxJWvP"
      },
      "source": [
        "16. Variables that &quot;contain\"; list values are not necessarily lists themselves. Instead, what do they\n",
        "contain?\n",
        "\n",
        "\n",
        "In Python, variables that \"contain\" list values are actually referencing the list objects. The variables themselves are not the lists; rather, they hold references or pointers to the memory locations where the lists are stored.\n",
        "\n",
        "When you assign a list to a variable, the variable is bound to the memory address of the list. This means that changes to the list through the variable affect the underlying list in memory.\n",
        "\n"
      ]
    },
    {
      "cell_type": "markdown",
      "metadata": {
        "id": "FDfik7F6Kq8n"
      },
      "source": [
        "17. How do you distinguish between copy.copy() and copy.deepcopy()?\n",
        "\n",
        "\n",
        "In Python, the copy module provides two functions for creating copies of objects: copy() and deepcopy(). Here's how you can distinguish between copy.copy() and copy.deepcopy():\n",
        "\n",
        "copy.copy() (Shallow Copy):\n",
        "\n",
        "The copy.copy() function creates a shallow copy of an object.\n",
        "A shallow copy creates a new object, but it does not create new objects for the elements within the original object. Instead, it copies references to the original elements.\n",
        "Shallow copy is suitable for objects that contain immutable elements or when you don't need a completely independent copy.\n",
        "\n",
        "copy.deepcopy() (Deep Copy):\n",
        "\n",
        "The copy.deepcopy() function creates a deep copy of an object.\n",
        "A deep copy creates a new object and recursively creates new objects for all objects found in the original.\n",
        "Deep copy is suitable when you need a completely independent copy of an object, especially if it contains nested mutable objects.\n",
        "\n",
        " The key difference is in how they handle nested objects. copy.copy() creates a new object with references to the nested objects, while copy.deepcopy() creates a new object with completely independent copies of all objects, including nested ones. Use shallow copy when you want a new object with references, and use deep copy when you want a new object with independent copies."
      ]
    }
  ],
  "metadata": {
    "colab": {
      "provenance": []
    },
    "kernelspec": {
      "display_name": "Python 3",
      "name": "python3"
    },
    "language_info": {
      "name": "python"
    }
  },
  "nbformat": 4,
  "nbformat_minor": 0
}
