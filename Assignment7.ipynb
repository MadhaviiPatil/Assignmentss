{
  "nbformat": 4,
  "nbformat_minor": 0,
  "metadata": {
    "colab": {
      "provenance": [],
      "authorship_tag": "ABX9TyNX2GnH9VtFMh0vSWXXxwxV",
      "include_colab_link": true
    },
    "kernelspec": {
      "name": "python3",
      "display_name": "Python 3"
    },
    "language_info": {
      "name": "python"
    }
  },
  "cells": [
    {
      "cell_type": "markdown",
      "metadata": {
        "id": "view-in-github",
        "colab_type": "text"
      },
      "source": [
        "<a href=\"https://colab.research.google.com/github/MadhaviiPatil/Assignmentss/blob/main/Assignment7.ipynb\" target=\"_parent\"><img src=\"https://colab.research.google.com/assets/colab-badge.svg\" alt=\"Open In Colab\"/></a>"
      ]
    },
    {
      "cell_type": "markdown",
      "source": [
        "Q.1. Create two int type variables, apply addition, subtraction, division and multiplications\n",
        "and store the results in variables.\n",
        "Then print the data in the following format by calling the\n",
        "variables:\n",
        "\n",
        "First variable is __ & second variable is __.\n",
        "\n",
        "Addition: __ + __ = __\n",
        "\n",
        "Subtraction: __ - __ = __\n",
        "\n",
        "Multiplication: __ * __ = __\n",
        "\n",
        "Division: __ / __ = __"
      ],
      "metadata": {
        "id": "-2529oZpS1sF"
      }
    },
    {
      "cell_type": "code",
      "source": [
        "a = 2\n",
        "b = 5\n",
        "\n",
        "addition = a + b\n",
        "subtraction = a - b\n",
        "multiplication = a * b\n",
        "division = a / b\n",
        "\n",
        "#print results\n",
        "print(f'first variable is {a} & second variable is {b}')\n",
        "print(f'Addition:{a} + {b} = {addition}')\n",
        "print(f'Subtraction:{a} - {b} = {subtraction}')\n",
        "print(f'Division:{a}/{b} = {division}')"
      ],
      "metadata": {
        "colab": {
          "base_uri": "https://localhost:8080/"
        },
        "id": "tJpAOo3STDy6",
        "outputId": "11f1d830-cbb1-4a77-c14b-c6560bba7d52"
      },
      "execution_count": 2,
      "outputs": [
        {
          "output_type": "stream",
          "name": "stdout",
          "text": [
            "first variable is 2 & second variable is 5\n",
            "Addition:2 + 5 = 7\n",
            "Subtraction:2 - 5 = -3\n",
            "Division:2/5 = 0.4\n"
          ]
        }
      ]
    },
    {
      "cell_type": "markdown",
      "source": [
        "Q.2. What is the difference between the following operators:\n",
        "\n",
        "(i) ‘/’ & ‘//’\n",
        "\n",
        "(ii) ‘**’ & ‘^’"
      ],
      "metadata": {
        "id": "AoDitxvUoHWG"
      }
    },
    {
      "cell_type": "markdown",
      "source": [
        "i) '/ ' (Division):\n",
        "\n",
        "This is the standard division operator.\n",
        "It returns a floating-point result (even if both operands are integers).\n",
        "\n",
        "\n",
        "'//' (Floor Division):\n",
        "\n",
        "This operator performs floor division.\n",
        "It returns the largest integer less than or equal to the result of the division (i.e., it rounds down to the nearest integer).\n",
        "\n",
        "ii) '' (Exponentiation) **:\n",
        "\n",
        "This operator is used to raise a number to the power of another number.\n",
        "\n",
        "'^' (Bitwise XOR):\n",
        "\n",
        "This is the bitwise XOR (exclusive OR) operator.\n",
        "It performs a bitwise XOR operation between two numbers.\n",
        "\n",
        "\n",
        "\n"
      ],
      "metadata": {
        "id": "OOnlJvE4ow5w"
      }
    },
    {
      "cell_type": "markdown",
      "source": [
        "Q.3. List the logical operators.\n",
        "\n",
        "In Python, logical operators are used to perform logical operations on boolean values (True and False).\n",
        "\n",
        "There are three main logical operators:\n",
        "\n",
        "and: This operator returns True if both operands are True. If either operand is False, it returns False.\n",
        "\n",
        "or:  This operator returns True if at least one of the operands is True. If both operands are False, it returns False.\n",
        "\n",
        "not:  This operator returns True if the operand is False, and returns False if the operand is True. It effectively inverts the boolean value.\n",
        "\n",
        "\n",
        "\n"
      ],
      "metadata": {
        "id": "zQiAnX5Yt54_"
      }
    },
    {
      "cell_type": "markdown",
      "source": [
        "Q.4. Explain right shift operator and left shift operator with examples.\n",
        "\n",
        "Right Shift Operator (>>)\n",
        "The right shift operator shifts the bits of the number to the right by a specified number of positions. Each shift to the right effectively divides the number by 2, discarding the least significant bit.\n",
        "\n",
        "\n",
        "Left Shift Operator (<<)\n",
        "The left shift operator shifts the bits of the number to the left by a specified number of positions. Each shift to the left effectively multiplies the number by 2, adding zeros to the least significant bit."
      ],
      "metadata": {
        "id": "TJbvK28Wt7aV"
      }
    },
    {
      "cell_type": "markdown",
      "source": [
        "Q.5) Create a list containing int type data of length 15. Then write a code to check if 10 is\n",
        "present in the list or not.\n",
        "\n"
      ],
      "metadata": {
        "id": "o3Z9E9t5S0hZ"
      }
    },
    {
      "cell_type": "code",
      "source": [
        "# Create a list of integers with length 15\n",
        "numbers = [1, 2, 3, 4, 5, 6, 7, 8, 9, 10, 11, 12, 13, 14, 15]\n",
        "\n",
        "# Check if 10 is present in the list\n",
        "if 10 in numbers:\n",
        "    print(\"10 is present in the list.\")\n",
        "else:\n",
        "    print(\"10 is not present in the list.\")\n"
      ],
      "metadata": {
        "colab": {
          "base_uri": "https://localhost:8080/"
        },
        "id": "IdhxUShioNV6",
        "outputId": "76b07a70-ecaf-4c87-a7f7-134b152e7342"
      },
      "execution_count": 3,
      "outputs": [
        {
          "output_type": "stream",
          "name": "stdout",
          "text": [
            "10 is present in the list.\n"
          ]
        }
      ]
    }
  ]
}