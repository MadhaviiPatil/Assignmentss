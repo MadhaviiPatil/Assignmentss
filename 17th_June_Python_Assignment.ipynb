{
  "nbformat": 4,
  "nbformat_minor": 0,
  "metadata": {
    "colab": {
      "provenance": []
    },
    "kernelspec": {
      "name": "python3",
      "display_name": "Python 3"
    },
    "language_info": {
      "name": "python"
    }
  },
  "cells": [
    {
      "cell_type": "markdown",
      "source": [
        "### 1. What is the role of try and exception block?"
      ],
      "metadata": {
        "id": "ADvejuwZV9mb"
      }
    },
    {
      "cell_type": "markdown",
      "source": [
        "Try and exception method is used for error handling and to prevent the program from crashing while execution\n",
        "\n",
        "Try Block : In try block we put the code that we want to run but if something\n",
        "          goes wrong and an error arises the execution on try block is paused and the code moves on to exeption block.\n",
        "\n",
        "Execution Block : The execution block contains solution to handle the specific  \n",
        "          problem inside this block when a problem occurs in the try block. The code is executed without crashing the program\n",
        "\n",
        "Using try and except blocks is essential for writing robust code, especially when dealing with operations that may fail or encounter unexpected conditions. It allows you to gracefully handle errors and continue executing your program without crashing."
      ],
      "metadata": {
        "id": "TopCn0ZoV9rb"
      }
    },
    {
      "cell_type": "markdown",
      "source": [
        "### 2. What is the syntax for a basic try-except block?"
      ],
      "metadata": {
        "id": "Ylup28PHV9uE"
      }
    },
    {
      "cell_type": "code",
      "source": [
        "try:\n",
        "    # Code that may raise an exception\n",
        "    # If an exception occurs within this block, Python will jump to the except block\n",
        "except ExceptionType:\n",
        "    # Code to handle the exception\n",
        "    # If an exception of type ExceptionType occurs within the try block, the code inside this block will be executed\n"
      ],
      "metadata": {
        "id": "cQazt2ekc5wf"
      },
      "execution_count": null,
      "outputs": []
    },
    {
      "cell_type": "markdown",
      "source": [
        "### 3. What happens if an exception occurs inside a try block and there is no matching except block?"
      ],
      "metadata": {
        "id": "U8G46dHaV9wg"
      }
    },
    {
      "cell_type": "markdown",
      "source": [
        "If an exception occurs and there is no matching except block to handle that type of exception, the program will terminate abruptly, and Python will display an error message known as an \"unhandled exception\" traceback."
      ],
      "metadata": {
        "id": "6o8UnmLBV9yz"
      }
    },
    {
      "cell_type": "markdown",
      "source": [
        "### 4. What is the difference between using a bare except block and specifying a specific exception type?"
      ],
      "metadata": {
        "id": "10BcnkLcV90J"
      }
    },
    {
      "cell_type": "markdown",
      "source": [
        "Specifying a specific exception type:\n",
        "This approach allows you to handle different exceptions differently based on their types. You can have multiple except blocks to handle different types of exceptions.\n",
        "It provides more precise error handling, allowing you to respond appropriately to different types of exceptions\n",
        "\n",
        "Using a bare except block:\n",
        "This approach catches all exceptions, regardless of their types. It's sometimes called a \"catch-all\" or \"general exception handler.\"\n",
        "While using a bare except block can catch unexpected errors and prevent the program from crashing, it can also make debugging more challenging because it obscures the specific types of exceptions that occur."
      ],
      "metadata": {
        "id": "-DsreyeldqZM"
      }
    },
    {
      "cell_type": "markdown",
      "source": [
        "### 5. Can you have nested try-except blocks in Python? If yes, then give an example."
      ],
      "metadata": {
        "id": "ppBg4XtrnPH_"
      }
    },
    {
      "cell_type": "markdown",
      "source": [
        "Yes, you can nest try-except blocks in Python. Nesting try-except blocks allows you to handle exceptions at different levels of granularity within your code. Here's an example:"
      ],
      "metadata": {
        "id": "TGEIlOhKnPtI"
      }
    },
    {
      "cell_type": "code",
      "source": [
        "try:\n",
        "    # Outer try block\n",
        "    try:\n",
        "        # Inner try block\n",
        "        number = int(input(\"Enter a number: \"))\n",
        "        result = 100 / number\n",
        "    except ValueError:\n",
        "        print(\"Please enter a valid integer.\")\n",
        "    else:\n",
        "        # Inner else block\n",
        "        print(\"Division result:\", result)\n",
        "except ZeroDivisionError:\n",
        "    print(\"Cannot divide by zero.\")\n",
        "except Exception as e:\n",
        "    print(\"An error occurred:\", e)\n"
      ],
      "metadata": {
        "id": "boonY5h_ftRc"
      },
      "execution_count": null,
      "outputs": []
    },
    {
      "cell_type": "markdown",
      "source": [
        "### 6. Can we use multiple exception blocks, if yes then give an example."
      ],
      "metadata": {
        "id": "TkX8OhKLnPzq"
      }
    },
    {
      "cell_type": "markdown",
      "source": [
        "Yes, you can use multiple except blocks to handle different types of exceptions separately. Here's an example:"
      ],
      "metadata": {
        "id": "oRCwfG3XnQLL"
      }
    },
    {
      "cell_type": "code",
      "source": [
        "try:\n",
        "    # Try to perform some arithmetic operation based on user input\n",
        "    num1 = int(input(\"Enter the first number: \"))\n",
        "    num2 = int(input(\"Enter the second number: \"))\n",
        "    result = num1 / num2\n",
        "    print(\"Result:\", result)\n",
        "except ValueError:\n",
        "    print(\"Please enter valid integers.\")\n",
        "except ZeroDivisionError:\n",
        "    print(\"Cannot divide by zero.\")\n",
        "except TypeError:\n",
        "    print(\"Unsupported operation. Make sure you're entering valid numbers.\")\n",
        "except Exception as e:\n",
        "    print(\"An unexpected error occurred:\", e)\n"
      ],
      "metadata": {
        "id": "b2VnOueygAzA"
      },
      "execution_count": null,
      "outputs": []
    },
    {
      "cell_type": "markdown",
      "source": [
        "### 7. Write the reason due to which following errors are raised:\n",
        "### a. EOFError\n",
        "### b. FloatingPointError\n",
        "###c. IndexError\n",
        "###d. MemoryError\n",
        "###e. OverflowError\n",
        "###f. TabError\n",
        "### g. ValueError"
      ],
      "metadata": {
        "id": "Yos7bWY6gKYw"
      }
    },
    {
      "cell_type": "markdown",
      "source": [
        "a. `EOFError`: This error occurs when the `input()` function hits an end-of-file condition without reading any data, typically when the user presses Ctrl+Z (Windows) to signal the end of input.\n",
        "\n",
        "b. `FloatingPointError`: This error occurs when a floating-point operation fails. It often happens when an operation results in an undefined or unrepresentable value, such as dividing by zero in floating-point arithmetic.\n",
        "\n",
        "c. `IndexError`: This error occurs when you try to access an index in a sequence (e.g., a list, tuple, or string) that is outside the valid range of indices. In simpler terms, it happens when you attempt to access an element that doesn't exist in the sequence.\n",
        "\n",
        "d. `MemoryError`: This error occurs when an operation or function cannot allocate enough memory to perform an action. It indicates that the system has run out of memory resources to fulfill a request.\n",
        "\n",
        "e. `OverflowError`: This error occurs when a numerical operation exceeds the limits of the data type being used. For example, trying to represent a number that is too large for the given data type can result in an overflow error.\n",
        "\n",
        "f. `TabError`: This error occurs when inconsistent use of tabs and spaces is encountered in indentation. Python expects consistent indentation to define block structures, and mixing tabs and spaces in indentation can lead to a `TabError`.\n",
        "\n",
        "g. `ValueError`: This error occurs when a built-in operation or function receives an argument with the correct data type but an inappropriate value. For example, passing an invalid value to the `int()` function will result in a `ValueError`."
      ],
      "metadata": {
        "id": "qpW20SQOgZy0"
      }
    },
    {
      "cell_type": "markdown",
      "source": [
        "### 8. Write code for the following given scenario and add try-exception block to it.\n",
        "###a. Program to divide two numbers\n",
        "###b. Program to convert a string to an integer\n",
        "###c. Program to access an element in a list\n",
        "###d. Program to handle a specific exception\n",
        "###e. Program to handle any exception"
      ],
      "metadata": {
        "id": "skmk7Oo7g7uR"
      }
    },
    {
      "cell_type": "code",
      "source": [
        "# Program to divide two numbers\n",
        "\n",
        "try:\n",
        "    number1 = int(input(\"Enter the first number: \"))\n",
        "    number2 = int(input(\"Enter the second number: \"))\n",
        "    result = number1 / number2\n",
        "    print(\"Result of division:\", result)\n",
        "except ZeroDivisionError:\n",
        "    print(\"Error: Cannot divide by zero.\")\n",
        "except ValueError:\n",
        "    print(\"Error: Please enter valid numbers.\")\n"
      ],
      "metadata": {
        "id": "6uRwKm0HhbVE"
      },
      "execution_count": null,
      "outputs": []
    },
    {
      "cell_type": "code",
      "source": [
        "# Program to convert a string to an integer\n",
        "\n",
        "try:\n",
        "    num_str = input(\"Enter a number: \")\n",
        "    num = int(num_str)\n",
        "    print(\"Integer value:\", num)\n",
        "except ValueError:\n",
        "    print(\"Error: Invalid input. Please enter a valid integer.\")\n"
      ],
      "metadata": {
        "id": "F527ILa0hq77"
      },
      "execution_count": null,
      "outputs": []
    },
    {
      "cell_type": "code",
      "source": [
        "# Program to access an element in a list\n",
        "\n",
        "try:\n",
        "    my_list = ['apple', 'samsung', 'laptop', 65, 'spare']\n",
        "    index = int(input(\"Enter the index to access: \"))\n",
        "    value = my_list[index]\n",
        "    print(\"Value at index\", index, \":\", value)\n",
        "except IndexError:\n",
        "    print(\"Error: Index out of range. Please enter a valid index.\")\n",
        "except ValueError:\n",
        "    print(\"Error: Invalid input. Please enter a valid integer index.\")\n"
      ],
      "metadata": {
        "id": "8CMV4AoXhq-z"
      },
      "execution_count": null,
      "outputs": []
    },
    {
      "cell_type": "code",
      "source": [
        "#  Program to handle a specific exception\n",
        "\n",
        "try:\n",
        "    # Some operation that may raise a specific exception\n",
        "    x = 10 / 0  # This will raise ZeroDivisionError\n",
        "except ZeroDivisionError:\n",
        "    print(\"Error: Division by zero occurred.\")\n"
      ],
      "metadata": {
        "id": "_StBg-3vhrCa"
      },
      "execution_count": null,
      "outputs": []
    },
    {
      "cell_type": "code",
      "source": [
        "# Program to handle any exception\n",
        "\n",
        "try:\n",
        "    # Some operation that may raise any type of exception\n",
        "    x = 10 / 0  # This will raise ZeroDivisionError\n",
        "except Exception as e:\n",
        "    print(\"An unexpected error occurred:\", e)\n"
      ],
      "metadata": {
        "id": "eQkiju4ZhrHS"
      },
      "execution_count": null,
      "outputs": []
    }
  ]
}