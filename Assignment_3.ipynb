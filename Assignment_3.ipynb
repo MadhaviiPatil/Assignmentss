{
  "nbformat": 4,
  "nbformat_minor": 0,
  "metadata": {
    "colab": {
      "provenance": []
    },
    "kernelspec": {
      "name": "python3",
      "display_name": "Python 3"
    },
    "language_info": {
      "name": "python"
    }
  },
  "cells": [
    {
      "cell_type": "markdown",
      "source": [
        "1.Why are functions advantageous to have in your programs?\n",
        "\n",
        "Ans: In programming, a function is a self-contained block of code that performs a specific task or set of tasks. Functions are designed to be reusable, modular, and encapsulated units of code.Functions are essential for breaking down complex problems into manageable pieces of code, improving code organization, reusability, and maintainability. They allow you to create a modular structure in your programs and make your code more readable and maintainable."
      ],
      "metadata": {
        "id": "9eJkwT6LKFEp"
      }
    },
    {
      "cell_type": "markdown",
      "source": [
        "\n",
        "2.When does the code in a function run: when it's specified or when it's called?\n",
        "\n",
        "The code in a function runs when it's called, not when it's specified or defined. When you define a function in Python using the def keyword, you are essentially telling Python what the function should do when it is called, but the code inside the function's body doesn't execute at that moment.The code within a function runs when you explicitly call that function in your program. The function definition merely specifies what should happen when it's called, but it doesn't execute the code until you invoke it with a function call."
      ],
      "metadata": {
        "id": "dMOX_YsDUVwA"
      }
    },
    {
      "cell_type": "markdown",
      "source": [
        "3.What statement creates a function?\n",
        "\n",
        "In Python, the def statement is used to create (define) a function. The def statement is followed by the function's name, a pair of parentheses containing any function parameters (if needed), and a colon to indicate the beginning of the function's code block (also known as the function body).\n",
        "\n",
        "def function_name(parameter1, parameter2):\n",
        "    \n"
      ],
      "metadata": {
        "id": "5jNhGcUQVTwW"
      }
    },
    {
      "cell_type": "markdown",
      "source": [
        "4.What is the difference between a function and a function call?\n",
        "\n",
        "A function is a self-contained block of code that defines a specific task or set of tasks.\n",
        "A function call is the act of executing a function by using its name followed by parentheses containing the arguments (if any) required for the function's operation.\n",
        "\n",
        "A function is a defined unit of code that specifies a particular operation, while a function call is the action of executing that function with specific inputs to perform its defined task. Functions are reusable and provide structure to your code, while function calls are where the actual computation or action takes place.\n",
        "\n"
      ],
      "metadata": {
        "id": "X22HcIhvZv2q"
      }
    },
    {
      "cell_type": "markdown",
      "source": [
        "5.How many global scopes are there in a Python program? How many local scopes?\n",
        "\n",
        "There is one global scope that covers the entire program, and each function call creates a new local scope.There are multiple local scopes in Python. Variables defined in a local scope are accessible only within that scope, while variables defined in the global scope are accessible throughout the program, including within functions."
      ],
      "metadata": {
        "id": "xBDlbFv3b6LN"
      }
    },
    {
      "cell_type": "markdown",
      "source": [
        "6.What happens to variables in a local scope when the function call returns?\n",
        "\n",
        "When a function call in Python returns, the variables that were defined within the local scope of that function become inaccessible and are destroyed. This is because local variables have a limited scope and lifetime, tied to the execution of the function in which they are defined.\n",
        "local variables have a limited scope within the function in which they are defined, and they cease to exist and become inaccessible once the function call returns."
      ],
      "metadata": {
        "id": "OgkJ5ExYc0Zh"
      }
    },
    {
      "cell_type": "markdown",
      "source": [
        "7.What is the concept of a return value? Is it possible to have a return value in an expression?\n",
        "\n",
        "Return values allow a function to provide information, results, or data back to the code that called it. This is essential for functions to communicate their output or results to the rest of the program.\n",
        "\n",
        "When you call a function that returns a value, you can assign that value to a variable or use it in expressions."
      ],
      "metadata": {
        "id": "gGabBtVyduF0"
      }
    },
    {
      "cell_type": "markdown",
      "source": [
        "\n",
        "8.If a function does not have a return statement, what is the return value of a call to that function?\n",
        "\n",
        "If a function in Python does not have a return statement, or if it has a return statement without an expression, the function will implicitly return None. None is a special Python object that represents the absence of a value or a \"null\" value."
      ],
      "metadata": {
        "id": "CJZzaL3NfWw8"
      }
    },
    {
      "cell_type": "markdown",
      "source": [
        "9.How do you make a function variable refer to the global variable?\n",
        "\n",
        "In Python, if you want to make a function variable refer to a global variable, you can use the global keyword within the function. This keyword allows you to indicate that a variable with the same name as a global variable should be treated as a global variable within the function's scope.\n",
        "\n"
      ],
      "metadata": {
        "id": "ucMc0UZZi82s"
      }
    },
    {
      "cell_type": "markdown",
      "source": [
        "10.What is the data type of None?\n",
        "In Python, the data type of None is called NoneType. NoneType represents the absence of a value or a null value. It is a built-in data type in Python, and None is the only value of this type."
      ],
      "metadata": {
        "id": "ua1Wdp0HklaO"
      }
    },
    {
      "cell_type": "code",
      "source": [
        "x = None\n",
        "print(type(x))"
      ],
      "metadata": {
        "colab": {
          "base_uri": "https://localhost:8080/"
        },
        "id": "Iynn7o7OlJMa",
        "outputId": "7d9b3bf9-7d52-4bb1-d4d0-7b66365c9cff"
      },
      "execution_count": 1,
      "outputs": [
        {
          "output_type": "stream",
          "name": "stdout",
          "text": [
            "<class 'NoneType'>\n"
          ]
        }
      ]
    },
    {
      "cell_type": "markdown",
      "source": [
        "11.What does the sentence import areallyourpetsnamederic do?\n",
        "\n",
        "In Python, the import statement is used to bring modules or packages into your current script or program so that you can use the functions, classes, and variables defined in those modules or packages.\n"
      ],
      "metadata": {
        "id": "X-hdWa_-lVwi"
      }
    },
    {
      "cell_type": "code",
      "source": [
        "import areallyourpetsnamederic\n"
      ],
      "metadata": {
        "colab": {
          "base_uri": "https://localhost:8080/",
          "height": 314
        },
        "id": "hSJ1yLKymzJs",
        "outputId": "4e3a8827-0e38-4688-e97f-6f656d259307"
      },
      "execution_count": 2,
      "outputs": [
        {
          "output_type": "error",
          "ename": "ModuleNotFoundError",
          "evalue": "ignored",
          "traceback": [
            "\u001b[0;31m---------------------------------------------------------------------------\u001b[0m",
            "\u001b[0;31mModuleNotFoundError\u001b[0m                       Traceback (most recent call last)",
            "\u001b[0;32m<ipython-input-2-b1ea9cb2228f>\u001b[0m in \u001b[0;36m<cell line: 1>\u001b[0;34m()\u001b[0m\n\u001b[0;32m----> 1\u001b[0;31m \u001b[0;32mimport\u001b[0m \u001b[0mareallyourpetsnamederic\u001b[0m\u001b[0;34m\u001b[0m\u001b[0;34m\u001b[0m\u001b[0m\n\u001b[0m",
            "\u001b[0;31mModuleNotFoundError\u001b[0m: No module named 'areallyourpetsnamederic'",
            "",
            "\u001b[0;31m---------------------------------------------------------------------------\u001b[0;32m\nNOTE: If your import is failing due to a missing package, you can\nmanually install dependencies using either !pip or !apt.\n\nTo view examples of installing some common dependencies, click the\n\"Open Examples\" button below.\n\u001b[0;31m---------------------------------------------------------------------------\u001b[0m\n"
          ],
          "errorDetails": {
            "actions": [
              {
                "action": "open_url",
                "actionText": "Open Examples",
                "url": "/notebooks/snippets/importing_libraries.ipynb"
              }
            ]
          }
        }
      ]
    },
    {
      "cell_type": "markdown",
      "source": [
        "12.If you had a bacon() feature in a spam module, what would you call it after importing spam?"
      ],
      "metadata": {
        "id": "cR3DI_2Qm-9-"
      }
    },
    {
      "cell_type": "code",
      "source": [
        "import spam\n",
        "\n",
        "result = spam.bacon()\n"
      ],
      "metadata": {
        "id": "-j780TWEluRm"
      },
      "execution_count": null,
      "outputs": []
    },
    {
      "cell_type": "markdown",
      "source": [
        "13.What can you do to save a programme from crashing if it encounters an error?\n",
        "\n",
        "In Python, you can implement error handling techniques to prevent a program from crashing when it encounters an error. These techniques involve using try-except blocks and other error-handling mechanisms.\n",
        "\n",
        "Use the finally Block: You can use a finally block to execute code that should run regardless of whether an exception is raised. For example, closing a file or releasing resources.\n"
      ],
      "metadata": {
        "id": "rrs5MbpZq4sh"
      }
    },
    {
      "cell_type": "markdown",
      "source": [
        "14.What is the purpose of the try clause? What is the purpose of the except clause?\n",
        "\n",
        "In Python, the try and except clauses are used to implement error handling and exception handling in your code. They serve distinct purposes:\n",
        "\n",
        "Purpose of the try Clause:\n",
        "\n",
        "The try clause is used to enclose a block of code in which you anticipate that an exception or error may occur. It is essentially a way to tell Python, \"Try to execute this code, and if an exception occurs, handle it gracefully instead of crashing the program.\"\n",
        "\n",
        "The except clause is used to specify how your program should respond when a specific type of exception is raised within the corresponding try block. It defines the exception handler, which is a block of code that is executed when an exception of the specified type occurs.\n",
        "\n",
        "try:\n",
        "    # Code that might raise an exception\n",
        "except SomeErrorType as e:\n",
        "    # Exception handling code\n"
      ],
      "metadata": {
        "id": "V7dah-GZr6pK"
      }
    }
  ]
}